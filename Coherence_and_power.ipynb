{
  "nbformat": 4,
  "nbformat_minor": 0,
  "metadata": {
    "colab": {
      "provenance": []
    },
    "kernelspec": {
      "display_name": "Python 3",
      "name": "python3"
    },
    "language_info": {
      "name": "python"
    }
  },
  "cells": [
    {
      "cell_type": "markdown",
      "metadata": {
        "id": "KwDyyXC_9oPe"
      },
      "source": [
        "# Proyecto 3 de Bioseñales y sistemas\n"
      ]
    },
    {
      "cell_type": "markdown",
      "metadata": {
        "id": "aFHPkY8G4fiY"
      },
      "source": [
        "**Inicialmente se deben importar las librerias con las que se ejecutaron todos los códigos, las cuales son: numpy, scipy, matplotlib, glob y pandas. También se cargan a este archivo los datos con los cuales se trabajó, que corresponden a 36 pacientes de control y 23 pacientes de parkinson.**"
      ]
    },
    {
      "cell_type": "code",
      "metadata": {
        "colab": {
          "base_uri": "https://localhost:8080/"
        },
        "id": "FPQMdbawxyJ4",
        "outputId": "8f06410a-7d3c-4058-c065-05e12179bcc6"
      },
      "source": [
        " # Se importan las librerias\n",
        "import numpy as np;\n",
        "import matplotlib.pyplot as plt\n",
        "import glob\n",
        "from google.colab import drive\n",
        "drive.mount('/content/drive')\n",
        "import scipy.io as sio;\n",
        "from scipy.signal import welch as pwelch\n",
        "import pandas as pd\n",
        "\n",
        "# Se importan los archivos\n",
        "archivos_g1 = glob.glob('/content/drive/Shareddrives/biosenales_sistemas/datasets_proyecto1/control/*.mat')\n",
        "/content/drive/Shareddrives/biosenales_sistemas/datasets_proyecto1/control\n",
        "/content/drive/Shareddrives/biosenales_sistemas/datasets_proyecto1/control/C001R_EP_reposo.mat\n",
        "archivos_g2 = glob.glob('/content/drive/Shareddrives/biosenales_sistemas/datasets_proyecto1/parkinson/*.mat')\n",
        "print('Hay ' + str(len(archivos_g1)) + ' sujetos de control')     # Hay 36 sujetos de control\n",
        "print('Hay ' + str(len(archivos_g2)) + ' sujetos de parkinson')     # Hay 23 sujetos de parkinson\n",
        "\n",
        "# Los siguientes archivos se usaron para probar el funcionamiento de los códigos, para dar los ejemplos\n",
        "archivo1 = sio.loadmat(archivos_g1[1])    # Este es un diccionario con los datos que representa a un paciente particular\n",
        "archivo2 = sio.loadmat(archivos_g2[1])\n",
        "control1 = archivo1['data']       # Estos son los datos guardados en la clave 'data', que corresponden a una matriz 3D\n",
        "parkinson1 = archivo2['data']\n",
        "print(control1.shape)\n"
      ],
      "execution_count": null,
      "outputs": [
        {
          "output_type": "stream",
          "name": "stdout",
          "text": [
            "Mounted at /content/drive\n",
            "Hay 36 sujetos de control\n",
            "Hay 23 sujetos de parkinson\n",
            "(8, 2000, 176)\n"
          ]
        }
      ]
    },
    {
      "cell_type": "code",
      "metadata": {
        "colab": {
          "base_uri": "https://localhost:8080/"
        },
        "id": "oxNzjWf8ZLO7",
        "outputId": "56ed1159-63b1-4043-cc2b-9b301b31dd77"
      },
      "source": [
        "from google.colab import drive\n",
        "drive.mount('/content/drive')"
      ],
      "execution_count": null,
      "outputs": [
        {
          "output_type": "stream",
          "name": "stdout",
          "text": [
            "Mounted at /content/drive\n"
          ]
        }
      ]
    },
    {
      "cell_type": "markdown",
      "metadata": {
        "id": "cKIutsx2ui1k"
      },
      "source": [
        "Calcular la fft para cada epoca, sumarlas para cada canal y sacar el promedio en potencias y mostrarlo en frecuencia para un canal, lo mismo para parkinson y graficar"
      ]
    },
    {
      "cell_type": "markdown",
      "metadata": {
        "id": "g7us2l7w5FJp"
      },
      "source": [
        "**1. Crear una función que reciba una señal de EEG y permita calcular la parte imaginaria de la coherencia**\n",
        "\n",
        "La parte imaginaria de la coherencia se calcula con la siguiente ecuación:\n",
        "\n",
        "$$IC_{xy}(f)=\\frac{Im(S_{xy}(f))}{\\sqrt{S_{xx}(f)S_{yy}(f)}}$$\n",
        "\n",
        "En donde X y Y son señales.\n",
        "\n",
        "Sx y Sy son las transformadas discretas de fourier.\n",
        "\n",
        "Sxx y Syy es el producto de cada una de sus DFT consigo misma, es decir,  Sx * Sx  y  Sy * Sy\n",
        "\n",
        "y Sxy es el producto de las transformadas cruzadas, es decir,  Sx * Sy."
      ]
    },
    {
      "cell_type": "code",
      "metadata": {
        "id": "QmUVhFoy5Kf3"
      },
      "source": [
        "def Imag_coher(x,y):\n",
        "  '''\n",
        "  Esta función recibe dos vectores y retorna un vector\n",
        "  '''\n",
        "  sx = np.fft.fft(x)    # Tansformada de Fourier del primer vector\n",
        "  sy = np.fft.fft(y)    # Tansformada de Fourier del segundo vector\n",
        "  sxy = sx*sy     # Densidad espectral cruzada\n",
        "  sxx = sx*sx     # Densidad espectral de sx\n",
        "  syy = sy*sy     # Densidad espectral de sy\n",
        "  part_i = sxy.imag     # Parte imaginaria de la densidad espectral cruzada\n",
        "  part_r = np.sqrt(sxx*syy).real    # Parte real y raiz cuadrada\n",
        "  ICxy = part_i/part_r      # Parte imaginaria de la coherencia\n",
        "  return ICxy\n",
        "a=Imag_coher(control1[1,:,73],control1[1,:,73])\n"
      ],
      "execution_count": null,
      "outputs": []
    },
    {
      "cell_type": "markdown",
      "metadata": {
        "id": "0IRLSFJ5DIp8"
      },
      "source": [
        "**2. Crear una función que reciba una señal EEG de múltiples canales y calcule la potencia relativa, estimada con una potencia máxima de 40Hz, en las bandas de interés IPEG 2012 para cada canal. Con las potencias relativas\n",
        "obtenidas retornar la relación entre (alfa1 + alfa2)/theta.**"
      ]
    },
    {
      "cell_type": "code",
      "metadata": {
        "id": "EkyyFkquDNgn",
        "colab": {
          "base_uri": "https://localhost:8080/"
        },
        "outputId": "6a2aa9aa-0cf2-4e11-f6ac-9f8a37d5ddfb"
      },
      "source": [
        "# La siguiente función calcula la potencia relativa y la relación pedida de un señal genérica\n",
        "def potencia_relativa(senal):\n",
        "  '''\n",
        "  Esta función recibe un vector y retorna una lista con dos elementos: un array y un flotante\n",
        "  '''\n",
        "  num_puntos_por_segundo = 250; # Preguntar si cambia\n",
        "  nperseg = 2000\n",
        "  noverlap = int(nperseg/2);\n",
        "  f, Pxx = pwelch(senal, num_puntos_por_segundo, 'hanning', nperseg, noverlap);\n",
        "  #se extrae la potencia de cada banda\n",
        "  delta = np.sum(Pxx[(f >= 1.5) & (f < 6)]);\n",
        "  theta = np.sum(Pxx[(f >= 6) & (f < 8.5)]);\n",
        "  alfa1 = np.sum(Pxx[(f >= 8.5) & (f < 10.5)]);\n",
        "  alfa2 = np.sum(Pxx[(f >= 10.5) & (f < 12.5)]);\n",
        "  beta1 = np.sum(Pxx[(f >= 12.5) & (f < 18.5)]);\n",
        "  beta2 = np.sum(Pxx[(f >= 18.5) & (f < 21)]);\n",
        "  beta3 = np.sum(Pxx[(f >= 21) & (f < 30)]);\n",
        "  gamma = np.sum(Pxx[(f >= 30) & (f < 40)]);\n",
        "  #se extrae la potencia total\n",
        "  total = np.sum(Pxx[f <= 40]);\n",
        "  #se extrae la potencia relativa\n",
        "  delta_relativo = delta/total;\n",
        "  theta_relativo = theta/total;\n",
        "  alfa1_relativo = alfa1/total;\n",
        "  alfa2_relativo = alfa2/total;\n",
        "  beta1_relativo = beta1/total;\n",
        "  beta2_relativo = beta2/total;\n",
        "  beta3_relativo = beta3/total;\n",
        "  gamma_relativo = gamma/total;\n",
        "  #convertimos una lista en python a un ndarray de numpy\n",
        "  potencia = np.asarray([delta_relativo, theta_relativo, alfa1_relativo, alfa2_relativo, beta1_relativo,\n",
        "                          beta2_relativo, beta3_relativo, gamma_relativo,]);\n",
        "  relacion = (alfa1_relativo + alfa2_relativo)/theta_relativo\n",
        "  salida = [potencia, relacion]\n",
        "  print(salida) # Borrar esta linea al final para entregar el codigo organizado\n",
        "  return salida\n",
        "\n",
        "# La siguiente función recorre los canales de un EEG de varios canales, es decir una el EEG de 1 paciente\n",
        "def potencia_de_EEG(EEG):\n",
        "  '''\n",
        "  Esta función recibe una matriz 3D y retorna una lista\n",
        "  '''\n",
        "  potencias_y_relaciones = []     # Lista para almacenar las potencias y relaciones de cada canal del EEG\n",
        "  nc = 0    # Contador de canales\n",
        "  for canal in EEG:\n",
        "    senal_completa = canal.flatten('F')     # Esta función convierte el canal en un vector 1D, de manera que la señal no queda dividida por epocas\n",
        "    print('\\n\\n La potencia relativa y la relación del canal ' + str(nc) + ' es:')\n",
        "    potencias_y_relaciones.append(potencia_relativa(senal_completa))    # Se agregan los datos a la lista\n",
        "    nc+=1\n",
        "  return potencias_y_relaciones\n",
        "potencia_de_EEG(parkinson1);   # Ejemplo, borrar esta linea al final"
      ],
      "execution_count": null,
      "outputs": [
        {
          "output_type": "stream",
          "name": "stdout",
          "text": [
            "\n",
            "\n",
            " La potencia relativa y la relación del canal 0 es:\n",
            "[array([6.44213575e-01, 1.09336606e-01, 3.03055378e-04, 1.56908246e-04,\n",
            "       2.34894542e-04, 5.47506425e-05, 1.19445279e-04, 7.00342017e-05]), 0.004206858425631753]\n",
            "\n",
            "\n",
            " La potencia relativa y la relación del canal 1 es:\n",
            "[array([6.38034589e-01, 8.27995475e-02, 2.43425046e-04, 1.33481350e-04,\n",
            "       2.04871622e-04, 4.83632103e-05, 1.06069993e-04, 6.24627210e-05]), 0.004552034494698996]\n",
            "\n",
            "\n",
            " La potencia relativa y la relación del canal 2 es:\n",
            "[array([6.15908493e-01, 7.59871920e-02, 2.58743890e-04, 1.43002118e-04,\n",
            "       2.19881754e-04, 5.19864332e-05, 1.14122736e-04, 6.72608351e-05]), 0.005287022694945488]\n",
            "\n",
            "\n",
            " La potencia relativa y la relación del canal 3 es:\n",
            "[array([6.42070598e-01, 7.64072769e-02, 2.65139614e-04, 1.39277806e-04,\n",
            "       2.09785478e-04, 4.91519511e-05, 1.07551449e-04, 6.32296422e-05]), 0.005292917598023494]\n",
            "\n",
            "\n",
            " La potencia relativa y la relación del canal 4 es:\n",
            "[array([6.34034820e-01, 1.02810479e-01, 3.11075735e-04, 1.54484294e-04,\n",
            "       2.26887891e-04, 5.24858244e-05, 1.14248171e-04, 6.68831630e-05]), 0.0045283324713263785]\n",
            "\n",
            "\n",
            " La potencia relativa y la relación del canal 5 es:\n",
            "[array([7.35893925e-01, 4.97762491e-02, 1.89401217e-04, 1.02419793e-04,\n",
            "       1.56857269e-04, 3.70517011e-05, 8.13237002e-05, 4.79261698e-05]), 0.005862655697381124]\n",
            "\n",
            "\n",
            " La potencia relativa y la relación del canal 6 es:\n",
            "[array([7.06714493e-01, 5.29315694e-02, 1.83537612e-04, 1.02144573e-04,\n",
            "       1.57994728e-04, 3.74745583e-05, 8.23687334e-05, 4.85950301e-05]), 0.005397198458936366]\n",
            "\n",
            "\n",
            " La potencia relativa y la relación del canal 7 es:\n",
            "[array([7.33905692e-01, 5.12659696e-02, 2.04340255e-04, 1.15883835e-04,\n",
            "       1.81620957e-04, 4.34104292e-05, 9.57423790e-05, 5.66472193e-05]), 0.0062463285545935835]\n"
          ]
        }
      ]
    },
    {
      "cell_type": "markdown",
      "metadata": {
        "id": "vpArUFNXicKD"
      },
      "source": [
        "**3. Crear una función que reciba una señal EEG de múltiples épocas y devuelva el promedio de la parte imaginaría de la coherencia calculada sobre cada época**"
      ]
    },
    {
      "cell_type": "code",
      "metadata": {
        "id": "fOzuP2tFuOpn",
        "colab": {
          "base_uri": "https://localhost:8080/"
        },
        "outputId": "74eace2e-3b16-4dc6-a015-e213e9d1ce12"
      },
      "source": [
        "#=================================FUNCION 3==================\n",
        "def Im_canales(canal1,canal2):\n",
        "  '''\n",
        "  Esta función recibe dos matrices 2D y retorna un número\n",
        "\n",
        "  Con esta función se calcula el promedio de la parte imaginaria de la coherencia (IC) de dos canales,\n",
        "  calculando la IC por pares de epocas del mismo indice y calculando su promedio\n",
        "  '''\n",
        "  coherencia=np.zeros((canal1.shape[1],canal1.shape[0])) #Se crea una matriz para almacenar los resultados de cada iteracion\n",
        "  for i in range (canal1.shape[1]): #Se recorre cada epoca de los canales ingresados\n",
        "     coherencia[i,:] = Imag_coher(canal1[:,i],canal2[:,i])\n",
        "  a= np.mean(coherencia) #Promedio de la coherencia\n",
        "  return a\n",
        "Im_canales(control1[1],control1[1])"
      ],
      "execution_count": null,
      "outputs": [
        {
          "output_type": "execute_result",
          "data": {
            "text/plain": [
              "1.1891731694711119e-09"
            ]
          },
          "metadata": {},
          "execution_count": 3
        }
      ]
    },
    {
      "cell_type": "markdown",
      "metadata": {
        "id": "qI6I76fEzG5A"
      },
      "source": [
        "**4. Crear una función que reciba una señal EEG de múltiples canales y múltiples épocas y devuelva el promedio de la parte imaginaria de la coherencia en el rango de beta3 calculada sobre cada época por pares de canales**"
      ]
    },
    {
      "cell_type": "code",
      "metadata": {
        "id": "80HeRu6Ou2mG",
        "colab": {
          "base_uri": "https://localhost:8080/"
        },
        "outputId": "c3a5675b-b7db-4dfc-83f8-c733290b3619"
      },
      "source": [
        "def Im_canales_beta3(canal1,canal2):\n",
        "  '''\n",
        "  Esta función recibe dos matrices 2D y retorna un número\n",
        "  Con esta función se calcula el promedio de la parte imaginaria de la coherencia (IC) de dos canales,\n",
        "  calculando la IC por pares de epocas del mismo indice y recortando los valores de frecuencia menores que 21\n",
        "  y mayores que 30\n",
        "  '''\n",
        "  coherencia=np.zeros((canal1.shape[1],canal1.shape[0]))  #Se crea una matriz para almacenar los resultados de cada iteracion\n",
        "  rangocoherencias=[]  #Se crea una matriz abierta para almacenar los rangos seleccionados\n",
        "  for i in range (canal1.shape[1]): #Iteramos para todas las epocas de cada canal\n",
        "    coherencia[i,:] = Imag_coher(canal1[:,i],canal2[:,i])\n",
        "    fs = 1000   # Frecuencia de muestreo\n",
        "    xf = np.arange(0.0, fs, fs/(coherencia.shape[1]))   # Vector de frecuencias\n",
        "    rango=coherencia[i,:][(xf >= 21) & (xf < 30)]  #  Recorta la banda solicitada\n",
        "    rangocoherencias.append(rango)    # Almacena la coherencia recortada\n",
        "  rangocoherencias = np.array(rangocoherencias)   # Convierte una lista en un array de numpy\n",
        "  promedio = np.mean(rangocoherencias)   # Promedio\n",
        "  return promedio\n",
        "\n",
        "def IC_beta3(EEG):\n",
        "  '''\n",
        "  Esta función recibe una matriz 3D retorna una matriz 2D (8x8 porque son 8 sensores)\n",
        "  '''\n",
        "  matriz = np.zeros((8,8))   #Se crea matriz para almacenar los promedio calculados por pares de canales 1-8\n",
        "  for i in range(matriz.shape[0]):   #Se itera para cada canal\n",
        "    for j in range(matriz.shape[1]): #Se itera para cada operacion con los canales (8)\n",
        "      matriz[i,j] = Im_canales_beta3(EEG[i],EEG[j])  #Uso de la funcion para encontrar y almacenar promedio por pares de canales\n",
        "  return matriz\n",
        "\n",
        "matriz = IC_beta3(control1) # Ejemplo para un sujeto, se muestra los resultados con el siguiente dataframe\n",
        "sensor=np.arange(1,9)\n",
        "tabla = pd.DataFrame({'Canal #':sensor,'Coherencia_con_C1':matriz[:,0],'Coherencia_con_C2':matriz[:,1],\n",
        "                        'Coherencia_con_C3':matriz[:,2],'Coherencia_con_C4':matriz[:,3],\n",
        "                        'Coherencia_con_C5':matriz[:,4],'Coherencia_con_C6':matriz[:,5],\n",
        "                      'Coherencia_con_C7':matriz[:,6],'Coherencia_con_C8':matriz[:,7]})\n",
        "tabla=tabla.set_index('Canal #')\n",
        "print(tabla)"
      ],
      "execution_count": null,
      "outputs": [
        {
          "output_type": "stream",
          "name": "stdout",
          "text": [
            "         Coherencia_con_C1  ...  Coherencia_con_C8\n",
            "Canal #                     ...                   \n",
            "1                 0.834627  ...          -1.127543\n",
            "2                 0.364635  ...          -1.234979\n",
            "3                 7.659903  ...          -0.172272\n",
            "4                -0.614113  ...           1.639356\n",
            "5                -0.846091  ...           1.093787\n",
            "6                11.793023  ...          -5.048743\n",
            "7                -3.270232  ...          -1.072400\n",
            "8                -1.127543  ...          -0.062297\n",
            "\n",
            "[8 rows x 8 columns]\n"
          ]
        }
      ]
    },
    {
      "cell_type": "markdown",
      "metadata": {
        "id": "ntu9f5Gio1Rk"
      },
      "source": [
        "**De esta matriz retornar el promedio por filas**"
      ]
    },
    {
      "cell_type": "code",
      "metadata": {
        "id": "an7ZbEJno4UW",
        "colab": {
          "base_uri": "https://localhost:8080/"
        },
        "outputId": "55e0977f-6924-4de2-be71-c0163d596195"
      },
      "source": [
        "def prom_filas(matriz):\n",
        "  '''\n",
        "  Esta función recibe una matriz 2D\n",
        "  y retorna un vector con el promedio de las coherencias de un canal con todos los demas canales\n",
        "  '''\n",
        "  promfilas = np.mean(matriz,1)  #Encontramos el promedio por filas\n",
        "  return promfilas\n",
        "promfilas=prom_filas(matriz) # Ejemplo para un sujeto, se muestra los resultados con el siguiente dataframe\n",
        "ciclo=np.arange(1,9)\n",
        "tabla= pd.DataFrame({'Canal #':ciclo,'Promedio del canal':promfilas[:],})\n",
        "tabla= tabla.set_index('Canal #')\n",
        "print(tabla)"
      ],
      "execution_count": null,
      "outputs": [
        {
          "output_type": "stream",
          "name": "stdout",
          "text": [
            "         Promedio del canal\n",
            "Canal #                    \n",
            "1                  1.849276\n",
            "2                 -1.353364\n",
            "3                 -1.102218\n",
            "4                 -0.066583\n",
            "5                 -1.548283\n",
            "6                  0.813694\n",
            "7                 -4.168596\n",
            "8                 -0.748137\n"
          ]
        }
      ]
    },
    {
      "cell_type": "markdown",
      "metadata": {
        "id": "AK2OAT1TzQ6d"
      },
      "source": [
        "**5. Crear una rutina que aplique sobre todos los archivos de la base de datos las rutina 2 y 3 y almacene los resultados en un dataframe**"
      ]
    },
    {
      "cell_type": "code",
      "metadata": {
        "id": "XFE5XN88zcFO"
      },
      "source": [
        "Pacientes = []\n",
        "Pacientes.extend(archivos_g1)\n",
        "Pacientes.extend(archivos_g2)     # Pacientes es una lista con todas las rutas de control + parkinson\n",
        "\n",
        "Resultados = np.zeros((len(Pacientes),16))    # Matriz de ceros para almacenar los datos del dataframe\n",
        "\n",
        "Tipo_Paciente=np.zeros((len(archivos_g1)+len(archivos_g2)),dtype='str')\n",
        "Tipo_Paciente[0:len(archivos_g1)]='control'\n",
        "Tipo_Paciente[len(archivos_g1):]='paciente'\n",
        "\n",
        "\n",
        "\n",
        "for ruta in Pacientes:\n",
        "  indice = Pacientes.index(ruta)\n",
        "  paciente = sio.loadmat(Pacientes[indice]); #Este es el archivo que está en la ruta\n",
        "  data = paciente['data'];     # Este data es la matriz de sensor x puntos x epoca\n",
        "  relaciones_canales = potencia_de_EEG(data)    # Se calculan las potencias y relaciones de cada canal\n",
        "  Coh_Im_B3 = IC_beta3(data)    # Parte imaginaria de la coherencia en el rango de Beta 3 de cada canal\n",
        "  media = prom_filas(Coh_Im_B3)\n",
        "  Resultados[indice,0] = relaciones_canales[0][1]     # Relación del canal 0\n",
        "  Resultados[indice,1] = media[0]     # CI del canal 0\n",
        "  Resultados[indice,2] = relaciones_canales[1][1]     # Relación del canal 1\n",
        "  Resultados[indice,3] = media[1]     # CI del canal 1\n",
        "  Resultados[indice,4] = relaciones_canales[2][1]     # Analogamente con los anteriores y los siguientes\n",
        "  Resultados[indice,5] = media[2]\n",
        "  Resultados[indice,6] = relaciones_canales[3][1]\n",
        "  Resultados[indice,7] = media[3]\n",
        "  Resultados[indice,8] = relaciones_canales[4][1]\n",
        "  Resultados[indice,9] = media[4]\n",
        "  Resultados[indice,10] = relaciones_canales[5][1]\n",
        "  Resultados[indice,11] = media[5]\n",
        "  Resultados[indice,12] = relaciones_canales[6][1]\n",
        "  Resultados[indice,13] = media[6]\n",
        "  Resultados[indice,14] = relaciones_canales[7][1]\n",
        "  Resultados[indice,15] = media[7]\n",
        "\n",
        "print('\\n\\n\\n')\n",
        "tabla = pd.DataFrame({\"Sujeto\": range(Tipo_Paciente.shape[0]), \"Estado\": Tipo_Paciente,\n",
        "                      \"𝛼_θ_Canal_0\": Resultados[:,0], \"Imag_Coher_Canal_0\": Resultados[:,1],\n",
        "                      \"𝛼_θ_Canal_1\": Resultados[:,2], \"Imag_Coher_Canal_1\": Resultados[:,3],\n",
        "                      \"𝛼_θ_Canal_2\": Resultados[:,4], \"Imag_Coher_Canal_2\": Resultados[:,5],\n",
        "                      \"𝛼_θ_Canal_3\": Resultados[:,6], \"Imag_Coher_Canal_3\": Resultados[:,7],\n",
        "                      \"𝛼_θ_Canal_4\": Resultados[:,8], \"Imag_Coher_Canal_4\": Resultados[:,9],\n",
        "                      \"𝛼_θ_Canal_5\": Resultados[:,10], \"Imag_Coher_Canal_5\": Resultados[:,11],\n",
        "                      \"𝛼_θ_Canal_6\": Resultados[:,12], \"Imag_Coher_Canal_6\": Resultados[:,13],\n",
        "                      \"𝛼_θ_Canal_7\": Resultados[:,14], \"Imag_Coher_Canal_7\": Resultados[:,15]})\n",
        "tabla= tabla.set_index(\"Sujeto\")\n",
        "print(tabla)"
      ],
      "execution_count": null,
      "outputs": []
    },
    {
      "cell_type": "markdown",
      "metadata": {
        "id": "U4MyGA3HqmEB"
      },
      "source": [
        "##Informe"
      ]
    },
    {
      "cell_type": "markdown",
      "metadata": {
        "id": "Jju6p1D8rDnq"
      },
      "source": [
        "**A) Gráfico de espectro promedio para los diferentes canales en los sujetos con\n",
        "Parkinson y Controles en el rango 0 - 40 Hz**"
      ]
    },
    {
      "cell_type": "code",
      "metadata": {
        "colab": {
          "base_uri": "https://localhost:8080/",
          "height": 1000
        },
        "id": "-ytiFaacufT2",
        "outputId": "215ca30a-04c2-4203-9a3c-5d0489c856d7"
      },
      "source": [
        "def curva_canal(data_set_c, data_set_p):\n",
        "  '''\n",
        "  Esta funcion recive 2 grupos de datos y genera gráficos de espectro promedio\n",
        "  comparando cada canal entre los dos grupos en un subplot por canal\n",
        "  '''\n",
        "  archivo_long= sio.loadmat(archivos_g1[1])  #Cargamos un sujeto con el fin de tener acceso a la longitud de sus dimensiones\n",
        "  control1_long = archivo1['data']\n",
        "\n",
        "  def espectro(canal):\n",
        "    ''' Se calcula el espectro frecuencial para un canal'''\n",
        "    senal_completa = canal.flatten('F') #Reducimos la dimension del canal para obtener una senal continua\n",
        "    num_puntos_por_segundo = 250;  # Frecuencia de muestreo\n",
        "    nperseg = 2000;  #Tamano de ventana\n",
        "    noverlap = int(nperseg/2);  #Solapamiento de ventana\n",
        "    f, Pxx = pwelch(senal_completa, num_puntos_por_segundo, 'hanning', nperseg, noverlap);  #Calculamos la densidad espectral para toda la senal\n",
        "    banda = Pxx[(f >= 0) & (f <= 40)];  #se extrae la potencia de la banda\n",
        "    return banda, f[0:len(banda)]\n",
        "\n",
        "  for j in range(control1_long.shape[0]):   #Se itera sore el numero de canales\n",
        "\n",
        "    banda=np.zeros((321))  #Creamos matrices para almacenar y sumar el espectro por cada sujeto\n",
        "    b=np.zeros((321))\n",
        "    f=np.zeros((321))\n",
        "\n",
        "    for a in range(len(archivos_g1)):  #Recorremos todos los sujetos control\n",
        "      data = sio.loadmat(archivos_g1[a]);\n",
        "      control1= data['data']\n",
        "      b,f=espectro(control1[j]);  #usamos la funcion espectro para el canal j del sujeto a\n",
        "      banda=banda+b;   #Sumamos el espectro de cada sujeto control\n",
        "\n",
        "    bandap=np.zeros((321))   #Creamos matrices para almacenar y sumar el espectro por cada sujeto\n",
        "    bp=np.zeros((321))\n",
        "    fp=np.zeros((321))\n",
        "\n",
        "    for a in range(len(archivos_g2)):   #Recorremos todos los sujetos parkinson\n",
        "      data = sio.loadmat(archivos_g2[a]);\n",
        "      parkinson1= data['data']\n",
        "      bp,fp=espectro(parkinson1[j]);   #usamos la funcion espectro para el canal j del sujeto a\n",
        "      bandap=bandap+bp;   #Sumamos el espectro de cada sujeto parkinson\n",
        "\n",
        "    '''Se generan los gráficos de espectro promedio comparando cada canal entre los dos grupos en un subplot por canal'''\n",
        "    plt.figure()\n",
        "    plt.plot(f,banda/36,'b',label='Control');\n",
        "    plt.plot(fp,bandap/23,'y',label='Parkinson');\n",
        "    plt.legend()\n",
        "    plt.xlabel('Frecuencia [Hz]');\n",
        "    plt.ylabel('Potencia');\n",
        "    plt.title('Canal #'+str(j+1))\n",
        "    plt.grid()\n",
        "    plt.show();\n",
        "  return\n",
        "curva_canal(archivos_g1 , archivos_g2 )"
      ],
      "execution_count": null,
      "outputs": [
        {
          "output_type": "display_data",
          "data": {
            "image/png": "[encoded data removed]",
            "text/plain": [
              "<Figure size 432x288 with 1 Axes>"
            ]
          },
          "metadata": {
            "needs_background": "light"
          }
        },
        {
          "output_type": "display_data",
          "data": {
            "image/png": "[encoded data removed]",
            "text/plain": [
              "<Figure size 432x288 with 1 Axes>"
            ]
          },
          "metadata": {
            "needs_background": "light"
          }
        },
        {
          "output_type": "display_data",
          "data": {
            "image/png": "[encoded data removed]",
            "text/plain": [
              "<Figure size 432x288 with 1 Axes>"
            ]
          },
          "metadata": {
            "needs_background": "light"
          }
        },
        {
          "output_type": "display_data",
          "data": {
            "image/png": "[encoded data removed]",
            "text/plain": [
              "<Figure size 432x288 with 1 Axes>"
            ]
          },
          "metadata": {
            "needs_background": "light"
          }
        },
        {
          "output_type": "display_data",
          "data": {
            "image/png": "[encoded data removed]",
            "text/plain": [
              "<Figure size 432x288 with 1 Axes>"
            ]
          },
          "metadata": {
            "needs_background": "light"
          }
        },
        {
          "output_type": "display_data",
          "data": {
            "image/png": "[encoded data removed]",
            "text/plain": [
              "<Figure size 432x288 with 1 Axes>"
            ]
          },
          "metadata": {
            "needs_background": "light"
          }
        },
        {
          "output_type": "display_data",
          "data": {
            "image/png": "[encoded data removed]",
            "text/plain": [
              "<Figure size 432x288 with 1 Axes>"
            ]
          },
          "metadata": {
            "needs_background": "light"
          }
        },
        {
          "output_type": "display_data",
          "data": {
            "image/png": "[encoded data removed]",
            "text/plain": [
              "<Figure size 432x288 with 1 Axes>"
            ]
          },
          "metadata": {
            "needs_background": "light"
          }
        }
      ]
    },
    {
      "cell_type": "markdown",
      "metadata": {
        "id": "4h25DoM9f1Wq"
      },
      "source": [
        "**B) Discusión de las diferencias en los grupos, para los diferentes canales, usando las gráficas obtenidas usando estadística descriptiva**\n",
        "\n",
        "**C) Planteamiento de las hipótesis nulas y alternativas, selección del tipo de prueba (paramétrica o no paramétrica). Discutir los resultados**"
      ]
    },
    {
      "cell_type": "code",
      "metadata": {
        "colab": {
          "base_uri": "https://localhost:8080/",
          "height": 1000
        },
        "id": "1FzMu3FBijb9",
        "outputId": "546b374c-4c57-461b-c420-47d9aa25df4a"
      },
      "source": [
        "def prueba_registro_delta(data_set_c, data_set_p):\n",
        "\n",
        "#B) Grafica de caja y bigotes para valores de frecuencia en rango delta\n",
        "\n",
        "  archivo_long= sio.loadmat(archivos_g1[1]) #Se realiza la carga del archivo\n",
        "  control1_long = archivo1['data']\n",
        "\n",
        "\n",
        "  def espectro(canal):#calcula el espectro para cada canal\n",
        "    senal_completa = canal.flatten('F')\n",
        "    num_puntos_por_segundo = 250;\n",
        "    nperseg = 2000;\n",
        "    noverlap = int(nperseg/2);\n",
        "    f, Pxx = pwelch(senal_completa, num_puntos_por_segundo, 'hanning', nperseg, noverlap);\n",
        "    banda = Pxx[(f >= 0) & (f <= 3)];#se extrae la potencia de la banda\n",
        "    return banda, f[0:len(banda)]\n",
        "\n",
        "  for j in range(control1_long.shape[0]):\n",
        "\n",
        "    banda=np.zeros((25))#matriz con dimension de la banda de frecuencias\n",
        "    b=np.zeros((25))\n",
        "    f=np.zeros((25))\n",
        "\n",
        "    for a in range(len(archivos_g1)):#recorre los sujetos de control\n",
        "      data = sio.loadmat(archivos_g1[a]);\n",
        "      control1= data['data']\n",
        "      b,f=espectro(control1[j]);\n",
        "      banda=banda+b;#se suma el espectro de cada señal control\n",
        "\n",
        "    bandap=np.zeros((25))#matriz con dimension de la banda de frecuencias\n",
        "    bp=np.zeros((25))\n",
        "    fp=np.zeros((25))\n",
        "\n",
        "    for a in range(len(archivos_g2)):#recorre los sujetos parkinson\n",
        "      data = sio.loadmat(archivos_g2[a]);\n",
        "      parkinson1= data['data']\n",
        "      bp,fp=espectro(parkinson1[j]);\n",
        "      bandap=bandap+bp;#se suma el espectro de cada señal parkinson\n",
        "\n",
        "\n",
        "    plt.figure()\n",
        "    plt.title('Caja y bigotes canal'+str(j+1))\n",
        "    data = [(banda/36),(bandap/23)]\n",
        "    plt.boxplot(data)\n",
        "\n",
        "##C) Prueba de hipotesis\n",
        "#Evaluamos que tipo de pruebas se pueden aplicar\n",
        "    from scipy.stats import shapiro\n",
        "\n",
        "    print('\\n \\n Prueba para canal #', j+1)\n",
        "    data1 = np.squeeze(banda/36)\n",
        "    stat, p = shapiro(data1)\n",
        "    print('\\n stat=%.3f, p=%.3f' % (stat, p))\n",
        "    if p > 0.05:\n",
        "      print('La senal es aparentemente normal')\n",
        "    else:\n",
        "      print('La senal aparentemente no es normal')\n",
        "\n",
        "    data1 = np.squeeze(bandap/23)\n",
        "    stat, p1 = shapiro(data1)\n",
        "    print('stat=%.3f, p=%.3f' % (stat, p1))\n",
        "    if p1 > 0.05:\n",
        "      print('La senal es aparentemente normal')\n",
        "    else:\n",
        "      print('La senal aparentemente no es normal')\n",
        "\n",
        "\n",
        "    if p1 > 0.05 and p > 0.05:\n",
        "      print('Se puede realizar pruebas parametricas')\n",
        "    else:\n",
        "      print('Se debe realizar pruebas no parametricas')\n",
        "\n",
        "## Pruebas no parametricas segun lo encontrado en la prueba de hipotesis\n",
        "\n",
        "    from scipy.stats import wilcoxon\n",
        "\n",
        "    data1 = np.squeeze(banda/36)\n",
        "    data2 = np.squeeze(banda/23)\n",
        "    stat, p = wilcoxon(data1, data2)\n",
        "    print('stat=%.3f, p=%.3f' % (stat, p))\n",
        "    if p > 0.05:\n",
        "      print('Probably the same distribution')\n",
        "    else:\n",
        "      print('Probably different distributions')\n",
        "  return\n",
        "\n",
        "\n",
        "prueba_registro_delta(archivos_g1 , archivos_g2 )"
      ],
      "execution_count": null,
      "outputs": [
        {
          "name": "stdout",
          "output_type": "stream",
          "text": [
            "\n",
            " \n",
            " Prueba para canal # 1\n",
            "\n",
            " stat=0.876, p=0.006\n",
            "La senal aparentemente no es normal\n",
            "stat=0.900, p=0.019\n",
            "La senal aparentemente no es normal\n",
            "Se debe realizar pruebas no parametricas\n",
            "stat=0.000, p=0.000\n",
            "Probably different distributions\n",
            "\n",
            " \n",
            " Prueba para canal # 2\n",
            "\n",
            " stat=0.833, p=0.001\n",
            "La senal aparentemente no es normal\n",
            "stat=0.898, p=0.016\n",
            "La senal aparentemente no es normal\n",
            "Se debe realizar pruebas no parametricas\n",
            "stat=0.000, p=0.000\n",
            "Probably different distributions\n",
            "\n",
            " \n",
            " Prueba para canal # 3\n",
            "\n",
            " stat=0.836, p=0.001\n",
            "La senal aparentemente no es normal\n",
            "stat=0.909, p=0.029\n",
            "La senal aparentemente no es normal\n",
            "Se debe realizar pruebas no parametricas\n",
            "stat=0.000, p=0.000\n",
            "Probably different distributions\n",
            "\n",
            " \n",
            " Prueba para canal # 4\n",
            "\n",
            " stat=0.824, p=0.001\n",
            "La senal aparentemente no es normal\n",
            "stat=0.891, p=0.012\n",
            "La senal aparentemente no es normal\n",
            "Se debe realizar pruebas no parametricas\n",
            "stat=0.000, p=0.000\n",
            "Probably different distributions\n",
            "\n",
            " \n",
            " Prueba para canal # 5\n",
            "\n",
            " stat=0.880, p=0.007\n",
            "La senal aparentemente no es normal\n",
            "stat=0.881, p=0.007\n",
            "La senal aparentemente no es normal\n",
            "Se debe realizar pruebas no parametricas\n",
            "stat=0.000, p=0.000\n",
            "Probably different distributions\n",
            "\n",
            " \n",
            " Prueba para canal # 6\n",
            "\n",
            " stat=0.727, p=0.000\n",
            "La senal aparentemente no es normal\n",
            "stat=0.788, p=0.000\n",
            "La senal aparentemente no es normal\n",
            "Se debe realizar pruebas no parametricas\n",
            "stat=0.000, p=0.000\n",
            "Probably different distributions\n",
            "\n",
            " \n",
            " Prueba para canal # 7\n",
            "\n",
            " stat=0.750, p=0.000\n",
            "La senal aparentemente no es normal\n",
            "stat=0.799, p=0.000\n",
            "La senal aparentemente no es normal\n",
            "Se debe realizar pruebas no parametricas\n",
            "stat=0.000, p=0.000\n",
            "Probably different distributions\n",
            "\n",
            " \n",
            " Prueba para canal # 8\n",
            "\n",
            " stat=0.716, p=0.000\n",
            "La senal aparentemente no es normal\n",
            "stat=0.771, p=0.000\n",
            "La senal aparentemente no es normal\n",
            "Se debe realizar pruebas no parametricas\n",
            "stat=0.000, p=0.000\n",
            "Probably different distributions\n"
          ]
        },
        {
          "data": {
            "image/png": "[encoded data removed]",
            "text/plain": [
              "<Figure size 432x288 with 1 Axes>"
            ]
          },
          "metadata": {},
          "output_type": "display_data"
        },
        {
          "data": {
            "image/png": "[encoded data removed]",
            "text/plain": [
              "<Figure size 432x288 with 1 Axes>"
            ]
          },
          "metadata": {},
          "output_type": "display_data"
        },
        {
          "data": {
            "image/png": "[encoded data removed]",
            "text/plain": [
              "<Figure size 432x288 with 1 Axes>"
            ]
          },
          "metadata": {},
          "output_type": "display_data"
        },
        {
          "data": {
            "image/png": "[encoded data removed]",
            "text/plain": [
              "<Figure size 432x288 with 1 Axes>"
            ]
          },
          "metadata": {},
          "output_type": "display_data"
        },
        {
          "data": {
            "image/png": "[encoded data removed]",
            "text/plain": [
              "<Figure size 432x288 with 1 Axes>"
            ]
          },
          "metadata": {},
          "output_type": "display_data"
        },
        {
          "data": {
            "image/png": "[encoded data removed]",
            "text/plain": [
              "<Figure size 432x288 with 1 Axes>"
            ]
          },
          "metadata": {},
          "output_type": "display_data"
        },
        {
          "data": {
            "image/png": "[encoded data removed]",
            "text/plain": [
              "<Figure size 432x288 with 1 Axes>"
            ]
          },
          "metadata": {},
          "output_type": "display_data"
        },
        {
          "data": {
            "image/png": "[encoded data removed]",
            "text/plain": [
              "<Figure size 432x288 with 1 Axes>"
            ]
          },
          "metadata": {},
          "output_type": "display_data"
        }
      ]
    },
    {
      "cell_type": "markdown",
      "metadata": {
        "id": "GE4kXrSDg_Ms"
      },
      "source": [
        "**Para un rango de frecuencias de theta**"
      ]
    },
    {
      "cell_type": "code",
      "metadata": {
        "id": "ynPkA1XehCyz",
        "colab": {
          "base_uri": "https://localhost:8080/",
          "height": 1000
        },
        "outputId": "72465caa-f65d-444e-ed73-98654af1f04c"
      },
      "source": [
        "def prueba_registro_theta(data_set_c, data_set_p):\n",
        "\n",
        "#B) Grafica de caja y bigotes para valores de frecuencia en rango theta\n",
        "  archivo_long= sio.loadmat(archivos_g1[1]) #Se realiza la carga del archivo\n",
        "  control1_long = archivo1['data']\n",
        "\n",
        "\n",
        "  def espectro(canal):#calcula el espectro para cada canal\n",
        "    senal_completa = canal.flatten('F')\n",
        "    num_puntos_por_segundo = 250;\n",
        "    nperseg = 2000;\n",
        "    noverlap = int(nperseg/2);\n",
        "    f, Pxx = pwelch(senal_completa, num_puntos_por_segundo, 'hanning', nperseg, noverlap);\n",
        "    banda = Pxx[(f >= 3) & (f <= 7.5)]; #se extrae la potencia de la banda\n",
        "    return banda, f[0:len(banda)]\n",
        "\n",
        "  for j in range(control1_long.shape[0]):\n",
        "\n",
        "    banda=np.zeros((37))#matriz con dimension de la banda de frecuencias\n",
        "    b=np.zeros((37))\n",
        "    f=np.zeros((37))\n",
        "\n",
        "    for a in range(len(archivos_g1)):#recorre los sujetos control\n",
        "      data = sio.loadmat(archivos_g1[a]);\n",
        "      control1= data['data']\n",
        "      b,f=espectro(control1[j]);\n",
        "      banda=banda+b;#se suma el espectro de cada señal control\n",
        "\n",
        "    bandap=np.zeros((37))#matriz con dimension de la banda de frecuencias\n",
        "    bp=np.zeros((37))\n",
        "    fp=np.zeros((37))\n",
        "\n",
        "    for a in range(len(archivos_g2)):#recorre los sujetos parkinson\n",
        "      data = sio.loadmat(archivos_g2[a]);\n",
        "      parkinson1= data['data']\n",
        "      bp,fp=espectro(parkinson1[j]);\n",
        "      bandap=bandap+bp;#se suma el espectro de cada señal parkinson\n",
        "\n",
        "\n",
        "    plt.figure()\n",
        "    plt.title('Caja y bigotes canal'+str(j+1))\n",
        "    data = [(banda/36),(bandap/23)]\n",
        "    plt.boxplot(data)\n",
        "\n",
        "##C) Prueba de hipotesis\n",
        "#Evaluamos que tipo de pruebas se pueden aplicar\n",
        "    from scipy.stats import shapiro\n",
        "\n",
        "    print('\\n \\n Prueba para canal #', j+1)\n",
        "    data1 = np.squeeze(banda/36)\n",
        "    stat, p = shapiro(data1)\n",
        "    print('\\n stat=%.3f, p=%.3f' % (stat, p))\n",
        "    if p > 0.05:\n",
        "      print('La senal es aparentemente normal')\n",
        "    else:\n",
        "      print('La senal aparentemente no es normal')\n",
        "\n",
        "    data1 = np.squeeze(bandap/23)\n",
        "    stat, p1 = shapiro(data1)\n",
        "    print('stat=%.3f, p=%.3f' % (stat, p1))\n",
        "    if p1 > 0.05:\n",
        "      print('La senal es aparentemente normal')\n",
        "    else:\n",
        "      print('La senal aparentemente no es normal')\n",
        "\n",
        "\n",
        "    if p1 > 0.05 and p > 0.05:\n",
        "      print('Se puede realizar pruebas parametricas')\n",
        "    else:\n",
        "      print('Se debe realizar pruebas no parametricas')\n",
        "\n",
        "## Pruebas no parametricas segun lo encontrado en la prueba de hipotesis\n",
        "\n",
        "    from scipy.stats import wilcoxon\n",
        "\n",
        "    data1 = np.squeeze(banda/36)\n",
        "    data2 = np.squeeze(banda/23)\n",
        "    stat, p = wilcoxon(data1, data2)\n",
        "    print('stat=%.3f, p=%.3f' % (stat, p))\n",
        "    if p > 0.05:\n",
        "      print('Probably the same distribution')\n",
        "    else:\n",
        "      print('Probably different distributions')\n",
        "  return\n",
        "\n",
        "\n",
        "prueba_registro_theta(archivos_g1 , archivos_g2 )"
      ],
      "execution_count": null,
      "outputs": [
        {
          "output_type": "stream",
          "name": "stdout",
          "text": [
            "\n",
            " \n",
            " Prueba para canal # 1\n",
            "\n",
            " stat=0.935, p=0.031\n",
            "La senal aparentemente no es normal\n",
            "stat=0.949, p=0.092\n",
            "La senal es aparentemente normal\n",
            "Se debe realizar pruebas no parametricas\n",
            "stat=0.000, p=0.000\n",
            "Probably different distributions\n",
            "\n",
            " \n",
            " Prueba para canal # 2\n",
            "\n",
            " stat=0.954, p=0.130\n",
            "La senal es aparentemente normal\n",
            "stat=0.941, p=0.051\n",
            "La senal es aparentemente normal\n",
            "Se puede realizar pruebas parametricas\n",
            "stat=0.000, p=0.000\n",
            "Probably different distributions\n",
            "\n",
            " \n",
            " Prueba para canal # 3\n",
            "\n",
            " stat=0.954, p=0.127\n",
            "La senal es aparentemente normal\n",
            "stat=0.953, p=0.119\n",
            "La senal es aparentemente normal\n",
            "Se puede realizar pruebas parametricas\n",
            "stat=0.000, p=0.000\n",
            "Probably different distributions\n",
            "\n",
            " \n",
            " Prueba para canal # 4\n",
            "\n",
            " stat=0.931, p=0.024\n",
            "La senal aparentemente no es normal\n",
            "stat=0.958, p=0.178\n",
            "La senal es aparentemente normal\n",
            "Se debe realizar pruebas no parametricas\n",
            "stat=0.000, p=0.000\n",
            "Probably different distributions\n",
            "\n",
            " \n",
            " Prueba para canal # 5\n",
            "\n",
            " stat=0.921, p=0.012\n",
            "La senal aparentemente no es normal\n",
            "stat=0.935, p=0.031\n",
            "La senal aparentemente no es normal\n",
            "Se debe realizar pruebas no parametricas\n",
            "stat=0.000, p=0.000\n",
            "Probably different distributions\n",
            "\n",
            " \n",
            " Prueba para canal # 6\n",
            "\n",
            " stat=0.910, p=0.006\n",
            "La senal aparentemente no es normal\n",
            "stat=0.925, p=0.016\n",
            "La senal aparentemente no es normal\n",
            "Se debe realizar pruebas no parametricas\n",
            "stat=0.000, p=0.000\n",
            "Probably different distributions\n",
            "\n",
            " \n",
            " Prueba para canal # 7\n",
            "\n",
            " stat=0.895, p=0.002\n",
            "La senal aparentemente no es normal\n",
            "stat=0.932, p=0.026\n",
            "La senal aparentemente no es normal\n",
            "Se debe realizar pruebas no parametricas\n",
            "stat=0.000, p=0.000\n",
            "Probably different distributions\n",
            "\n",
            " \n",
            " Prueba para canal # 8\n",
            "\n",
            " stat=0.913, p=0.007\n",
            "La senal aparentemente no es normal\n",
            "stat=0.931, p=0.024\n",
            "La senal aparentemente no es normal\n",
            "Se debe realizar pruebas no parametricas\n",
            "stat=0.000, p=0.000\n",
            "Probably different distributions\n"
          ]
        },
        {
          "output_type": "display_data",
          "data": {
            "image/png": "[encoded data removed]",
            "text/plain": [
              "<Figure size 432x288 with 1 Axes>"
            ]
          },
          "metadata": {
            "needs_background": "light"
          }
        },
        {
          "output_type": "display_data",
          "data": {
            "image/png": "[encoded data removed]",
            "text/plain": [
              "<Figure size 432x288 with 1 Axes>"
            ]
          },
          "metadata": {
            "needs_background": "light"
          }
        },
        {
          "output_type": "display_data",
          "data": {
            "image/png": "[encoded data removed]",
            "text/plain": [
              "<Figure size 432x288 with 1 Axes>"
            ]
          },
          "metadata": {
            "needs_background": "light"
          }
        },
        {
          "output_type": "display_data",
          "data": {
            "image/png": "[encoded data removed]",
            "text/plain": [
              "<Figure size 432x288 with 1 Axes>"
            ]
          },
          "metadata": {
            "needs_background": "light"
          }
        },
        {
          "output_type": "display_data",
          "data": {
            "image/png": "[encoded data removed]",
            "text/plain": [
              "<Figure size 432x288 with 1 Axes>"
            ]
          },
          "metadata": {
            "needs_background": "light"
          }
        },
        {
          "output_type": "display_data",
          "data": {
            "image/png": "[encoded data removed]",
            "text/plain": [
              "<Figure size 432x288 with 1 Axes>"
            ]
          },
          "metadata": {
            "needs_background": "light"
          }
        },
        {
          "output_type": "display_data",
          "data": {
            "image/png": "[encoded data removed]",
            "text/plain": [
              "<Figure size 432x288 with 1 Axes>"
            ]
          },
          "metadata": {
            "needs_background": "light"
          }
        },
        {
          "output_type": "display_data",
          "data": {
            "image/png": "[encoded data removed]",
            "text/plain": [
              "<Figure size 432x288 with 1 Axes>"
            ]
          },
          "metadata": {
            "needs_background": "light"
          }
        }
      ]
    },
    {
      "cell_type": "markdown",
      "metadata": {
        "id": "TvKHVgxxd2Xb"
      },
      "source": [
        "**C) Evaluar si hay relación entre los valores de (alfa1 + alfa2)/theta con la entropía de permutación en los diferentes canales**\n",
        "\n",
        "\n",
        "\n"
      ]
    },
    {
      "cell_type": "markdown",
      "metadata": {
        "id": "Rhz5CnYIe_sD"
      },
      "source": [
        "**Entropía de permutación, proyecto 1**"
      ]
    },
    {
      "cell_type": "code",
      "metadata": {
        "id": "LZQF5TBse9_u"
      },
      "source": [
        "def Entropia_de_Permutacion (EEG):\n",
        "  '''\n",
        "  Esta funcion recibe un vector y retorna un flotante\n",
        "  Usando D=3 y Tau=1\n",
        "  '''\n",
        "  s = np.array(EEG)     # Señal\n",
        "  tamano = s.shape    # Tamaño de la señal\n",
        "  indices = range(tamano[0]-1)     # Vector de indices\n",
        "  matriz = [0,0,0]    # fila de ceros de tamaño 3x1\n",
        "  for v in indices:     # Este ciclo se utiliza para la partición del espacio de estado, lo cual no puede hacerse con numpy\n",
        "    vfila = [s[v-1],s[v],s[v+1]]\n",
        "    matriz = np.vstack([matriz,vfila])    # Concatena cada fila y organiza una matriz\n",
        "  matriz = matriz[2:,:]     # Recorta las dos primeras filas, pues no son utiles\n",
        "  ncol = tamano[0]-2    # Numero de columnas de la matriz transpuesta\n",
        "  pi1=0; pi2=0; pi3=0; pi4=0; pi5=0; pi6=0    # Inicialización de las permutaciones\n",
        "  for fila in matriz:     # Este ciclo cuenta los Patrones ordinales, que no pueden hacerse con numpy\n",
        "    if fila[0]<fila[1]<fila[2]:\n",
        "      pi1 += 1\n",
        "    if fila[0]<fila[2] and fila[1]>fila[2]:\n",
        "      pi2 += 1\n",
        "    if fila[1]<fila[0] and fila[0]<fila[2]:\n",
        "      pi3 += 1\n",
        "    if fila[1]>fila[0] and fila[0]>fila[2]:\n",
        "      pi4 += 1\n",
        "    if fila[1]<fila[2] and fila[0]>fila[2]:\n",
        "      pi5 += 1\n",
        "    if fila[1]<fila[0] and fila[2]<fila[1]:\n",
        "      pi6 += 1\n",
        "  pis = np.array([pi1,pi2,pi3,pi4,pi5,pi6])     # Vector de los numeros de incidentes\n",
        "  PisMay0 = pis[pis>0]/ncol     # Frecuancias relativas de los pis mayores que 0\n",
        "  PE = np.dot(np.log2(PisMay0),-PisMay0)    # Entropía de permutación\n",
        "  #print('La entropía de permuntación es: ' + str(PE))\n",
        "  #print('La entropía de permutación normalizada es: ' + str(0.386852*PE))\n",
        "  return float(PE)"
      ],
      "execution_count": null,
      "outputs": []
    },
    {
      "cell_type": "code",
      "metadata": {
        "id": "PgRQ_jaLnMWH"
      },
      "source": [
        "#se crea la matriz grupal sujetos x canales\n",
        "entropia_g1 = np.zeros((len(archivos_g1),control1.shape[0]))\n",
        "contador = 0\n",
        "\n",
        "#por cada archivo de G1 se hace el analisis espectral\n",
        "for archivo in archivos_g1:\n",
        "  #se trabaja este en la misma carpeta de los datos para que pueda funcionar\n",
        "  archivo1 = sio.loadmat(archivos_g1[contador]);\n",
        "  control1 = archivo1['data'];\n",
        "\n",
        "  #%% CONTINUA\n",
        "  sensores = control1.shape[0];\n",
        "  puntos = control1.shape[1];\n",
        "  epocas = control1.shape[2];\n",
        "\n",
        "  for s in range(sensores):\n",
        "    h = 0\n",
        "    for e in range(epocas):\n",
        "      h = h + Entropia_de_Permutacion(control1[s,:,e])\n",
        "    h = h/epocas #promedio\n",
        "    entropia_g1[contador,s] = h #se guarda la entropia del sujeto en el sensor s\n",
        "\n",
        "  contador += 1"
      ],
      "execution_count": null,
      "outputs": []
    },
    {
      "cell_type": "code",
      "metadata": {
        "id": "QvK3ak_GpaDQ"
      },
      "source": [
        "#se crea la matriz grupal sujetos x canales\n",
        "entropia_g2 = np.zeros((len(archivos_g2),parkinson1.shape[0]))\n",
        "contador = 0\n",
        "\n",
        "#por cada archivo de G1 se hace el analisis espectral\n",
        "for archivo in archivos_g2:\n",
        "  #se trabaja este en la misma carpeta de los datos para que pueda funcionar\n",
        "  archivo2 = sio.loadmat(archivos_g2[contador]);\n",
        "  parkinson1 = archivo2['data'];\n",
        "\n",
        "  #%% CONTINUA\n",
        "  sensores = parkinson1.shape[0];\n",
        "  puntos = parkinson1.shape[1];\n",
        "  epocas = parkinson1.shape[2];\n",
        "\n",
        "  for s in range(sensores):\n",
        "    h = 0\n",
        "    for e in range(epocas):\n",
        "      h = h + Entropia_de_Permutacion(parkinson1[s,:,e])\n",
        "    h = h/epocas #promedio\n",
        "    entropia_g2[contador,s] = h #se guarda la entropia del sujeto en el sensor s\n",
        "\n",
        "  contador += 1"
      ],
      "execution_count": null,
      "outputs": []
    },
    {
      "cell_type": "code",
      "metadata": {
        "id": "Pf3Mtvh96xuL"
      },
      "source": [
        "relacion_control = []\n",
        "relacion_parkinson =[]\n",
        "h=0\n",
        "pos = [1,3,5,7,9,11,13,15]\n",
        "for i in pos:\n",
        "  cont = tabla.iloc[0:36,i] + h\n",
        "  park =tabla.iloc[36:59,i] + h\n",
        "  relacion_control.append(cont)\n",
        "  relacion_parkinson.append(park)\n",
        "  h = h+h"
      ],
      "execution_count": null,
      "outputs": []
    },
    {
      "cell_type": "code",
      "metadata": {
        "id": "8SA17N8qqH-g",
        "colab": {
          "base_uri": "https://localhost:8080/"
        },
        "outputId": "18eabea9-2368-4671-9874-271da9821e66"
      },
      "source": [
        "from scipy.stats import pearsonr\n",
        "\n",
        "for i in range(8):\n",
        "  data1 = np.squeeze(entropia_g1[:,i])\n",
        "  data2 = np.squeeze(relacion_control[i])\n",
        "  stat,p = pearsonr(data1 , data2)\n",
        "  print('stat=%.5f, p=%.5f' % (stat, p))\n",
        "  if p > 0.05:\n",
        "\t  print('Probablemente independiente los canales '+ str(i+1))\n",
        "  else:\n",
        "\t  print('Probablemente dependiente los canales '+ str(i+1))\n",
        "  i=i+1\n",
        "\n"
      ],
      "execution_count": null,
      "outputs": [
        {
          "output_type": "stream",
          "name": "stdout",
          "text": [
            "stat=-0.60325, p=0.00010\n",
            "Probablemente dependiente los canales 1\n",
            "stat=-0.73284, p=0.00000\n",
            "Probablemente dependiente los canales 2\n",
            "stat=-0.67188, p=0.00001\n",
            "Probablemente dependiente los canales 3\n",
            "stat=-0.59095, p=0.00015\n",
            "Probablemente dependiente los canales 4\n",
            "stat=-0.09677, p=0.57449\n",
            "Probablemente independiente los canales 5\n",
            "stat=-0.54586, p=0.00057\n",
            "Probablemente dependiente los canales 6\n",
            "stat=-0.50083, p=0.00186\n",
            "Probablemente dependiente los canales 7\n",
            "stat=-0.54988, p=0.00051\n",
            "Probablemente dependiente los canales 8\n"
          ]
        }
      ]
    },
    {
      "cell_type": "code",
      "metadata": {
        "colab": {
          "base_uri": "https://localhost:8080/"
        },
        "id": "xfsZHxuTG3ZD",
        "outputId": "e869a44f-f5e3-4622-ffb4-8cb4c65314f7"
      },
      "source": [
        "from scipy.stats import pearsonr\n",
        "\n",
        "for i in range(8):\n",
        "  data1 = np.squeeze(entropia_g2[:,i])\n",
        "  data2 = np.squeeze(relacion_parkinson[i])\n",
        "  stat,p = pearsonr(data1 , data2)\n",
        "  print('stat=%.5f, p=%.5f' % (stat, p))\n",
        "  if p > 0.05:\n",
        "\t  print('Probablemente independiente los canales '+ str(i+1))\n",
        "  else:\n",
        "\t  print('Probablemente dependiente los canales '+ str(i+1))\n",
        "  i=i+1\n"
      ],
      "execution_count": null,
      "outputs": [
        {
          "output_type": "stream",
          "name": "stdout",
          "text": [
            "stat=-0.81565, p=0.00000\n",
            "Probablemente dependiente los canales 1\n",
            "stat=-0.74553, p=0.00004\n",
            "Probablemente dependiente los canales 2\n",
            "stat=-0.72908, p=0.00008\n",
            "Probablemente dependiente los canales 3\n",
            "stat=-0.77578, p=0.00001\n",
            "Probablemente dependiente los canales 4\n",
            "stat=-0.72741, p=0.00008\n",
            "Probablemente dependiente los canales 5\n",
            "stat=-0.84323, p=0.00000\n",
            "Probablemente dependiente los canales 6\n",
            "stat=-0.75616, p=0.00003\n",
            "Probablemente dependiente los canales 7\n",
            "stat=-0.73070, p=0.00008\n",
            "Probablemente dependiente los canales 8\n"
          ]
        }
      ]
    },
    {
      "cell_type": "code",
      "metadata": {
        "id": "ueWFm9N9PWXS"
      },
      "source": [],
      "execution_count": null,
      "outputs": []
    }
  ]
}