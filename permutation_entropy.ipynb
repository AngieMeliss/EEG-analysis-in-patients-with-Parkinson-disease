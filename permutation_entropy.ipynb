{
  "nbformat": 4,
  "nbformat_minor": 0,
  "metadata": {
    "colab": {
      "provenance": []
    },
    "kernelspec": {
      "name": "python3",
      "display_name": "Python 3"
    },
    "language_info": {
      "name": "python"
    }
  },
  "cells": [
    {
      "cell_type": "markdown",
      "metadata": {
        "id": "fLKaTxcBVWCB"
      },
      "source": [
        "Proyecto 1: Bioseñales y Sistemas\n",
        "\n",
        "\n",
        "> Presentado por: Angie Melissa Londoño Castaño\n"
      ]
    },
    {
      "cell_type": "markdown",
      "metadata": {
        "id": "IXo2cHHCWXPU"
      },
      "source": [
        "\n",
        "Inicialmente se deben importar las librerias con las que se ejecutaron todos los códigos, las cuales son: numpy, scipy, matplotlib, glob y pandas. También se cargan a este archivo los datos con los cuales se trabajó, que corresponden a 36 pacientes de control y 23 pacientes de parkinson."
      ]
    },
    {
      "cell_type": "code",
      "metadata": {
        "id": "HhPafBo5r-7O",
        "colab": {
          "base_uri": "https://localhost:8080/"
        },
        "outputId": "6d42c88d-bf78-4f6a-b469-eacacb7b6937"
      },
      "source": [
        "from google.colab import drive\n",
        "drive.mount('/content/drive')\n",
        "\n",
        "# Manejo de elementos del sistema, como carpetas\n",
        "# Se importan las librerias\n",
        "import scipy.io as sio;\n",
        "import numpy as np;\n",
        "import matplotlib.pyplot as plt\n",
        "import glob\n",
        "import pandas as pd\n",
        "\n",
        "# Se importan los archivos\n",
        "archivos_g1 = glob.glob('/content/drive/Shareddrives/biosenales_sistemas/datasets_proyecto1/control/*.mat')\n",
        "archivos_g2 = glob.glob('/content/drive/Shareddrives/biosenales_sistemas/datasets_proyecto1/parkinson/*.mat')\n",
        "print('Hay ' + str(len(archivos_g1)) + ' sujetos de control')     # Hay 36 sujetos de control\n",
        "print('Hay ' + str(len(archivos_g2)) + ' sujetos de parkinson')     # Hay 23 sujetos de parkinson\n",
        "\n",
        "fs = 1000     # Frecuencia de muestreo\n",
        "\n",
        "# Los siguientes archivos se usaron para probar el funcionamiento de los códigos\n",
        "archivo1 = sio.loadmat(archivos_g1[1])    # Este es un diccionario con los datos que representa a un paciente particular\n",
        "archivo2 = sio.loadmat(archivos_g2[1])\n",
        "control1 = archivo1['data']       # Estos son los datos guardados en la clave 'data'\n",
        "parkinson1=archivo2['data']"
      ],
      "execution_count": null,
      "outputs": [
        {
          "output_type": "stream",
          "text": [
            "Mounted at /content/drive\n",
            "Hay 36 sujetos de control\n",
            "Hay 23 sujetos de parkinson\n"
          ],
          "name": "stdout"
        }
      ]
    },
    {
      "cell_type": "markdown",
      "metadata": {
        "id": "Ji1JIEjxYATn"
      },
      "source": [
        "1. Crear una función que reciba una señal de EEG y permita calcular la entropía de permutación"
      ]
    },
    {
      "cell_type": "code",
      "metadata": {
        "id": "5L_g_MnfLY2o"
      },
      "source": [
        "def Entropia_de_Permutacion (EEG):\n",
        "  '''\n",
        "  Esta funcion recibe un vector y retorna un flotante\n",
        "  Usando D=3 y Tau=1\n",
        "  '''\n",
        "  s = np.array(EEG)     # Señal\n",
        "  tamano = s.shape    # Tamaño de la señal\n",
        "  indices = range(tamano[0]-1)     # Vector de indices\n",
        "  matriz = [0,0,0]    # fila de ceros de tamaño 3x1\n",
        "  for v in indices:     # Este ciclo se utiliza para la partición del espacio de estado, lo cual no puede hacerse con numpy\n",
        "    vfila = [s[v-1],s[v],s[v+1]]\n",
        "    matriz = np.vstack([matriz,vfila])    # Concatena cada fila y organiza una matriz\n",
        "  matriz = matriz[2:,:]     # Recorta las dos primeras filas, pues no son utiles\n",
        "  ncol = tamano[0]-2    # Numero de columnas de la matriz transpuesta\n",
        "  pi1=0; pi2=0; pi3=0; pi4=0; pi5=0; pi6=0    # Inicialización de las permutaciones\n",
        "  for fila in matriz:     # Este ciclo cuenta los Patrones ordinales, que no pueden hacerse con numpy\n",
        "    if fila[0]<fila[1]<fila[2]:\n",
        "      pi1 += 1\n",
        "    if fila[0]<fila[2] and fila[1]>fila[2]:\n",
        "      pi2 += 1\n",
        "    if fila[1]<fila[0] and fila[0]<fila[2]:\n",
        "      pi3 += 1\n",
        "    if fila[1]>fila[0] and fila[0]>fila[2]:\n",
        "      pi4 += 1\n",
        "    if fila[1]<fila[2] and fila[0]>fila[2]:\n",
        "      pi5 += 1\n",
        "    if fila[1]<fila[0] and fila[2]<fila[1]:\n",
        "      pi6 += 1\n",
        "  pis = np.array([pi1,pi2,pi3,pi4,pi5,pi6])     # Vector de los numeros de incidentes\n",
        "  PisMay0 = pis[pis>0]/ncol     # Frecuancias relativas de los pis mayores que 0\n",
        "  PE = np.dot(np.log2(PisMay0),-PisMay0)    # Entropía de permutación\n",
        "  #print('La entropía de permuntación es: ' + str(PE))\n",
        "  #print('La entropía de permutación normalizada es: ' + str(0.386852*PE))\n",
        "  return float(PE)"
      ],
      "execution_count": null,
      "outputs": []
    },
    {
      "cell_type": "markdown",
      "metadata": {
        "id": "TlOguY6RZ-Mj"
      },
      "source": [
        "2. Crear una función que reciba una señal EEG de múltiples épocas y devuelva el promedio de la entropía de permutación calculado sobre cada época\n"
      ]
    },
    {
      "cell_type": "code",
      "metadata": {
        "id": "pCzUP6r-ZLZc"
      },
      "source": [
        "def promedio_EP_por_epoca (Sensor): #control o parkinson, esta es una matriz en 2D de (puntos x epocas)\n",
        "  '''\n",
        "  Esta función recibe una matriz 2D y retorna un numero\n",
        "  '''\n",
        "  Epocas = Sensor.shape[1]\n",
        "  EPE = 0\n",
        "  for e in range(Epocas):\n",
        "    EPE += Entropia_de_Permutacion(Sensor[:,e])     # Entropia de Permutación por Epoca\n",
        "  EPEP = EPE/Epocas     # Entropia de Permutacion por Epoca Promedio\n",
        "  return EPEP\n",
        "\n",
        "#promedio_EP_por_epoca(control1[0])      # Un ejemplo\n"
      ],
      "execution_count": null,
      "outputs": []
    },
    {
      "cell_type": "markdown",
      "metadata": {
        "id": "3aV913-Wafkr"
      },
      "source": [
        "3. Crear una función que reciba una señal EEG de múltiples canales y múltiples épocas y devuelva el promedio de la entropía de permutación calculado sobre cada época en cada canal por separado\n"
      ]
    },
    {
      "cell_type": "code",
      "metadata": {
        "id": "WfioAYL6TKeU"
      },
      "source": [
        "def promedio_EP_por_sensor_por_epoca(Matriz3D):\n",
        "  '''\n",
        "  Esta función recibe una matriz en 3D, que representa 1 solo paciente y retorna un matriz de sensores x epoca\n",
        "  '''\n",
        "  sensores = Matriz3D.shape[0]\n",
        "  epocas = Matriz3D.shape[2]\n",
        "  entropia_S_E = np.zeros((sensores,epocas))    # Matriz de ceros de sensores x epoca\n",
        "  for s in range(sensores):\n",
        "    for e in range(epocas):\n",
        "      h = Entropia_de_Permutacion(Matriz3D[s,:,e])\n",
        "    entropia_S_E[s,e] = h\n",
        "  return entropia_S_E\n",
        "\n",
        "#promedio_EP_por_sensor_por_epoca(control1)    # Ejemplo de 1 paciente (1 matriz 3D)"
      ],
      "execution_count": null,
      "outputs": []
    },
    {
      "cell_type": "markdown",
      "metadata": {
        "id": "HVvUUoUTbEQL"
      },
      "source": [
        "4. Crear una rutina que aplique sobre todos los archivos de la base de datos las rutina 3 y almacene los resultados en un dataframe donde se pueda discriminar nombre, sujeto, control o paciente y el promedio de entropía de permutación obtenido para cada canal, por ejemplo (10):\n"
      ]
    },
    {
      "cell_type": "code",
      "metadata": {
        "id": "AviPghTfuwE7",
        "colab": {
          "base_uri": "https://localhost:8080/"
        },
        "outputId": "31f3ca68-ee71-45c6-84b8-31501b30e14f"
      },
      "source": [
        "Pacientes = []\n",
        "Pacientes.extend(archivos_g1)\n",
        "Pacientes.extend(archivos_g2)     # Pacientes es una lista con todas las rutas de control + parkinson\n",
        "\n",
        "control = np.zeros(len(archivos_g1))\n",
        "parkinson = np.ones(len(archivos_g2))\n",
        "Tipo_Paciente = np.hstack([control,parkinson])    # Si el valor es 0 es un paciente de control, si es 1 es un paciente de parkinson\n",
        "Resultados=[0,0,0,0,0,0,0,0]\n",
        "\n",
        "for ruta in Pacientes:\n",
        "  indice = Pacientes.index(ruta)\n",
        "  paciente = sio.loadmat(Pacientes[indice]); #Este es el archivo que está en la ruta\n",
        "  data = paciente['data'];     # Este data es la matriz de sensor x puntos x epoca\n",
        "  S_E = promedio_EP_por_sensor_por_epoca(data)\n",
        "  Resultados = np.vstack([Resultados,np.mean(S_E, 1)])\n",
        "Resultados = Resultados[1:,:]\n",
        "\n",
        "tabla = pd.DataFrame({\"Sujeto\": range(Tipo_Paciente.shape[0]), \"Estado\": Tipo_Paciente,\n",
        "                      \"Entropia_Canal_1\": Resultados[:,0], \"Entropia_Canal_2\": Resultados[:,1], \"Entropia_Canal_3\": Resultados[:,2],\n",
        "                      \"Entropia_Canal_4\": Resultados[:,3], \"Entropia_Canal_5\": Resultados[:,4], \"Entropia_Canal_6\": Resultados[:,5],\n",
        "                      \"Entropia_Canal_7\": Resultados[:,6], \"Entropia_Canal_8\": Resultados[:,7]})\n",
        "print(tabla)\n",
        "\n"
      ],
      "execution_count": null,
      "outputs": [
        {
          "output_type": "stream",
          "text": [
            "    Sujeto  Estado  ...  Entropia_Canal_7  Entropia_Canal_8\n",
            "0        0     0.0  ...          0.007210          0.007131\n",
            "1        1     0.0  ...          0.007085          0.007317\n",
            "2        2     0.0  ...          0.008984          0.009018\n",
            "3        3     0.0  ...          0.008879          0.008637\n",
            "4        4     0.0  ...          0.007388          0.007561\n",
            "5        5     0.0  ...          0.007586          0.007491\n",
            "6        6     0.0  ...          0.009400          0.009240\n",
            "7        7     0.0  ...          0.007158          0.007106\n",
            "8        8     0.0  ...          0.007533          0.007537\n",
            "9        9     0.0  ...          0.006810          0.006780\n",
            "10      10     0.0  ...          0.009274          0.009316\n",
            "11      11     0.0  ...          0.007967          0.007758\n",
            "12      12     0.0  ...          0.006813          0.006706\n",
            "13      13     0.0  ...          0.007890          0.007900\n",
            "14      14     0.0  ...          0.007061          0.007052\n",
            "15      15     0.0  ...          0.006264          0.006097\n",
            "16      16     0.0  ...          0.006504          0.006513\n",
            "17      17     0.0  ...          0.008060          0.008053\n",
            "18      18     0.0  ...          0.008434          0.008547\n",
            "19      19     0.0  ...          0.009060          0.009293\n",
            "20      20     0.0  ...          0.007599          0.007521\n",
            "21      21     0.0  ...          0.008041          0.007953\n",
            "22      22     0.0  ...          0.008903          0.008826\n",
            "23      23     0.0  ...          0.007084          0.007216\n",
            "24      24     0.0  ...          0.007685          0.007709\n",
            "25      25     0.0  ...          0.006856          0.006882\n",
            "26      26     0.0  ...          0.007141          0.007175\n",
            "27      27     0.0  ...          0.008713          0.008829\n",
            "28      28     0.0  ...          0.007130          0.007113\n",
            "29      29     0.0  ...          0.006965          0.006801\n",
            "30      30     0.0  ...          0.006343          0.006376\n",
            "31      31     0.0  ...          0.007484          0.007489\n",
            "32      32     0.0  ...          0.005012          0.004945\n",
            "33      33     0.0  ...          0.007768          0.007857\n",
            "34      34     0.0  ...          0.007553          0.007760\n",
            "35      35     0.0  ...          0.006987          0.006952\n",
            "36      36     1.0  ...          0.009211          0.009310\n",
            "37      37     1.0  ...          0.009350          0.009268\n",
            "38      38     1.0  ...          0.006943          0.006951\n",
            "39      39     1.0  ...          0.008155          0.008024\n",
            "40      40     1.0  ...          0.008905          0.008823\n",
            "41      41     1.0  ...          0.008960          0.008977\n",
            "42      42     1.0  ...          0.009000          0.008921\n",
            "43      43     1.0  ...          0.008049          0.008127\n",
            "44      44     1.0  ...          0.007411          0.007300\n",
            "45      45     1.0  ...          0.008585          0.008637\n",
            "46      46     1.0  ...          0.009431          0.009395\n",
            "47      47     1.0  ...          0.007965          0.007928\n",
            "48      48     1.0  ...          0.009241          0.009232\n",
            "49      49     1.0  ...          0.006931          0.006831\n",
            "50      50     1.0  ...          0.007740          0.007534\n",
            "51      51     1.0  ...          0.007564          0.007640\n",
            "52      52     1.0  ...          0.008101          0.008097\n",
            "53      53     1.0  ...          0.007809          0.007846\n",
            "54      54     1.0  ...          0.005881          0.005943\n",
            "55      55     1.0  ...          0.008014          0.007628\n",
            "56      56     1.0  ...          0.007541          0.007486\n",
            "57      57     1.0  ...          0.008041          0.008215\n",
            "58      58     1.0  ...          0.007389          0.007524\n",
            "\n",
            "[59 rows x 10 columns]\n"
          ],
          "name": "stdout"
        }
      ]
    },
    {
      "cell_type": "markdown",
      "metadata": {
        "id": "dfqMXkcSbhfL"
      },
      "source": [
        "Los siguientes códigos se usaron para sacar las graficas estadísticas"
      ]
    },
    {
      "cell_type": "code",
      "metadata": {
        "id": "xcUUuhQGUbR5"
      },
      "source": [
        "#se crea la matriz grupal sujetos x canales\n",
        "entropia_g1 = np.zeros((len(archivos_g1),control1.shape[0]))\n",
        "contador = 0\n",
        "\n",
        "#por cada archivo de G1 se hace el analisis espectral\n",
        "for archivo in archivos_g1:\n",
        "  #se trabaja este en la misma carpeta de los datos para que pueda funcionar\n",
        "  archivo1 = sio.loadmat(archivos_g1[contador]);\n",
        "  control1 = archivo1['data'];\n",
        "\n",
        "  #%% CONTINUA\n",
        "  sensores = control1.shape[0];\n",
        "  puntos = control1.shape[1];\n",
        "  epocas = control1.shape[2];\n",
        "\n",
        "  for s in range(sensores):\n",
        "    h = 0\n",
        "    for e in range(epocas):\n",
        "      h = h + Entropia_de_Permutacion(control1[s,:,e])\n",
        "    h = h/epocas #promedio\n",
        "    entropia_g1[contador,s] = h #se guarda la entropia del sujeto en el sensor s\n",
        "\n",
        "  contador += 1"
      ],
      "execution_count": null,
      "outputs": []
    },
    {
      "cell_type": "code",
      "metadata": {
        "id": "HyEljkn7UdeJ"
      },
      "source": [
        "#se crea la matriz grupal sujetos x canales\n",
        "entropia_g2 = np.zeros((len(archivos_g2),parkinson1.shape[0]))\n",
        "contador = 0\n",
        "\n",
        "#por cada archivo de G1 se hace el analisis espectral\n",
        "for archivo in archivos_g2:\n",
        "  #se trabaja este en la misma carpeta de los datos para que pueda funcionar\n",
        "  archivo2 = sio.loadmat(archivos_g2[contador]);\n",
        "  parkinson1 = archivo2['data'];\n",
        "\n",
        "  #%% CONTINUA\n",
        "  sensores = parkinson1.shape[0];\n",
        "  puntos = parkinson1.shape[1];\n",
        "  epocas = parkinson1.shape[2];\n",
        "\n",
        "  for s in range(sensores):\n",
        "    h = 0\n",
        "    for e in range(epocas):\n",
        "      h = h + Entropia_de_Permutacion(parkinson1[s,:,e])\n",
        "    h = h/epocas #promedio\n",
        "    entropia_g2[contador,s] = h #se guarda la entropia del sujeto en el sensor s\n",
        "\n",
        "  contador += 1"
      ],
      "execution_count": null,
      "outputs": []
    },
    {
      "cell_type": "code",
      "metadata": {
        "id": "BTSJXUO2UiEb"
      },
      "source": [
        "promedio_g1 = np.mean(entropia_g1,axis=0) #se promedia sobre los sujetos\n",
        "promedio_g2 = np.mean(entropia_g2,axis=0)"
      ],
      "execution_count": null,
      "outputs": []
    },
    {
      "cell_type": "code",
      "metadata": {
        "id": "P_EffbrOUms3",
        "colab": {
          "base_uri": "https://localhost:8080/",
          "height": 297
        },
        "outputId": "48f32c20-d2df-4bf1-d472-be05a684c75a"
      },
      "source": [
        "labels = ['C1', 'C2', 'C3', 'C4', 'C5', 'C6', 'C7', 'C8']\n",
        "\n",
        "x = np.arange(len(labels))  # the label locations\n",
        "width = 0.35  # the width of the bars\n",
        "\n",
        "fig, ax = plt.subplots()\n",
        "rects1 = ax.bar(x - width/2, promedio_g1, width, label='Control')\n",
        "rects2 = ax.bar(x + width/2, promedio_g2, width, label='Parkinson')\n",
        "\n",
        "# Add some text for labels, title and custom x-axis tick labels, etc.\n",
        "ax.set_ylabel('Entropia')\n",
        "ax.set_xlabel('Canales')\n",
        "ax.set_title('Entropia por canal y grupo')\n",
        "ax.set_xticks(x)\n",
        "ax.set_xticklabels(labels)\n",
        "ax.legend(loc=\"center\")\n",
        "\n",
        "fig.tight_layout()\n",
        "\n",
        "plt.show()"
      ],
      "execution_count": null,
      "outputs": [
        {
          "output_type": "display_data",
          "data": {
            "image/png": "[encoded data removed]",
            "text/plain": [
              "<Figure size 432x288 with 1 Axes>"
            ]
          },
          "metadata": {
            "tags": [],
            "needs_background": "light"
          }
        }
      ]
    },
    {
      "cell_type": "code",
      "metadata": {
        "id": "vJHL0XzPU5h2",
        "colab": {
          "base_uri": "https://localhost:8080/",
          "height": 899
        },
        "outputId": "4cf6a10f-9b24-49d3-874f-3326ac21e496"
      },
      "source": [
        "# CAJAS Y BIGOTES POR CANAL PARA CONTROL Y PARKINSON\n",
        "plt.figure(figsize=(20,10))\n",
        "h=0\n",
        "for i in range(1,9):\n",
        "  data = [np.squeeze(entropia_g1[:,h]),np.squeeze(entropia_g2[:,h])]\n",
        "  plt.subplot(2,4, i)\n",
        "  plt.boxplot(data)\n",
        "  plt.title('Canal ' +  str(i))\n",
        "  h +=1\n",
        "\n",
        "plt.show()"
      ],
      "execution_count": null,
      "outputs": [
        {
          "output_type": "stream",
          "text": [
            "/usr/local/lib/python3.7/dist-packages/numpy/core/_asarray.py:83: VisibleDeprecationWarning: Creating an ndarray from ragged nested sequences (which is a list-or-tuple of lists-or-tuples-or ndarrays with different lengths or shapes) is deprecated. If you meant to do this, you must specify 'dtype=object' when creating the ndarray\n",
            "  return array(a, dtype, copy=False, order=order)\n",
            "/usr/local/lib/python3.7/dist-packages/numpy/core/_asarray.py:83: VisibleDeprecationWarning: Creating an ndarray from ragged nested sequences (which is a list-or-tuple of lists-or-tuples-or ndarrays with different lengths or shapes) is deprecated. If you meant to do this, you must specify 'dtype=object' when creating the ndarray\n",
            "  return array(a, dtype, copy=False, order=order)\n",
            "/usr/local/lib/python3.7/dist-packages/numpy/core/_asarray.py:83: VisibleDeprecationWarning: Creating an ndarray from ragged nested sequences (which is a list-or-tuple of lists-or-tuples-or ndarrays with different lengths or shapes) is deprecated. If you meant to do this, you must specify 'dtype=object' when creating the ndarray\n",
            "  return array(a, dtype, copy=False, order=order)\n",
            "/usr/local/lib/python3.7/dist-packages/numpy/core/_asarray.py:83: VisibleDeprecationWarning: Creating an ndarray from ragged nested sequences (which is a list-or-tuple of lists-or-tuples-or ndarrays with different lengths or shapes) is deprecated. If you meant to do this, you must specify 'dtype=object' when creating the ndarray\n",
            "  return array(a, dtype, copy=False, order=order)\n",
            "/usr/local/lib/python3.7/dist-packages/numpy/core/_asarray.py:83: VisibleDeprecationWarning: Creating an ndarray from ragged nested sequences (which is a list-or-tuple of lists-or-tuples-or ndarrays with different lengths or shapes) is deprecated. If you meant to do this, you must specify 'dtype=object' when creating the ndarray\n",
            "  return array(a, dtype, copy=False, order=order)\n",
            "/usr/local/lib/python3.7/dist-packages/numpy/core/_asarray.py:83: VisibleDeprecationWarning: Creating an ndarray from ragged nested sequences (which is a list-or-tuple of lists-or-tuples-or ndarrays with different lengths or shapes) is deprecated. If you meant to do this, you must specify 'dtype=object' when creating the ndarray\n",
            "  return array(a, dtype, copy=False, order=order)\n",
            "/usr/local/lib/python3.7/dist-packages/numpy/core/_asarray.py:83: VisibleDeprecationWarning: Creating an ndarray from ragged nested sequences (which is a list-or-tuple of lists-or-tuples-or ndarrays with different lengths or shapes) is deprecated. If you meant to do this, you must specify 'dtype=object' when creating the ndarray\n",
            "  return array(a, dtype, copy=False, order=order)\n",
            "/usr/local/lib/python3.7/dist-packages/numpy/core/_asarray.py:83: VisibleDeprecationWarning: Creating an ndarray from ragged nested sequences (which is a list-or-tuple of lists-or-tuples-or ndarrays with different lengths or shapes) is deprecated. If you meant to do this, you must specify 'dtype=object' when creating the ndarray\n",
            "  return array(a, dtype, copy=False, order=order)\n"
          ],
          "name": "stderr"
        },
        {
          "output_type": "display_data",
          "data": {
            "image/png": "[encoded data removed]",
            "text/plain": [
              "<Figure size 1440x720 with 8 Axes>"
            ]
          },
          "metadata": {
            "tags": [],
            "needs_background": "light"
          }
        }
      ]
    },
    {
      "cell_type": "markdown",
      "metadata": {
        "id": "Kz_980UaEVv9"
      },
      "source": [
        "Pruebas de normalidad (Shapiro-Wilk) y prueba paramétrica (Mann-Whitney U). Dichas pruebas se realizaron con el fin de determinar la distribución que seguian los datos para cada grupo de sujetos, esto se evaluó por cada canal."
      ]
    },
    {
      "cell_type": "code",
      "metadata": {
        "id": "64V98cxYVBpq",
        "colab": {
          "base_uri": "https://localhost:8080/"
        },
        "outputId": "e3d88e40-aa22-43f5-b652-59a379053736"
      },
      "source": [
        "# Shapiro-Wilk Normality Test (Sujetos control)\n",
        "i=0\n",
        "for i in range(sensores):\n",
        "  from scipy.stats import shapiro\n",
        "  data = np.squeeze(entropia_g1[:,i])\n",
        "  stat, p = shapiro(data)\n",
        "  print('stat=%.3f, p=%.3f' % (stat, p))\n",
        "  if p > 0.05:\n",
        "\t  print('Probabilidad Gaussina para el canal ' + str(i+1)+ ' de control')\n",
        "  else:\n",
        "\t  print('Probabilidad no Gaussian para el canal '+ str(i+1)+' de control')\n",
        "  i=i+1"
      ],
      "execution_count": null,
      "outputs": [
        {
          "output_type": "stream",
          "text": [
            "stat=0.945, p=0.071\n",
            "Probabilidad Gaussina para el canal 1 de control\n",
            "stat=0.935, p=0.036\n",
            "Probabilidad no Gaussian para el canal 2 de control\n",
            "stat=0.938, p=0.043\n",
            "Probabilidad no Gaussian para el canal 3 de control\n",
            "stat=0.938, p=0.044\n",
            "Probabilidad no Gaussian para el canal 4 de control\n",
            "stat=0.961, p=0.232\n",
            "Probabilidad Gaussina para el canal 5 de control\n",
            "stat=0.940, p=0.051\n",
            "Probabilidad Gaussina para el canal 6 de control\n",
            "stat=0.935, p=0.035\n",
            "Probabilidad no Gaussian para el canal 7 de control\n",
            "stat=0.955, p=0.152\n",
            "Probabilidad Gaussina para el canal 8 de control\n"
          ],
          "name": "stdout"
        }
      ]
    },
    {
      "cell_type": "code",
      "metadata": {
        "id": "GSSKWOAPVIeg",
        "colab": {
          "base_uri": "https://localhost:8080/"
        },
        "outputId": "3ef66ba7-1dcb-4139-a711-de87880b1e53"
      },
      "source": [
        "# Shapiro-Wilk Normality Test (Sujetos parkinson)\n",
        "from scipy import stats\n",
        "i=0\n",
        "for i in range(sensores):\n",
        "  from scipy.stats import shapiro\n",
        "  data = np.squeeze(entropia_g2[:,i])\n",
        "  stat, p = shapiro(data)\n",
        "  print('stat=%.3f, p=%.3f' % (stat, p))\n",
        "  if p > 0.05:\n",
        "\t  print('Probabilidad Gaussiana para el canal '+ str(i+1)+' de parkinson')\n",
        "  else:\n",
        "\t  print('Probabilidad no Gaussian para el canal '+ str(i+1)+' de parkinson')\n",
        "  i=i+1"
      ],
      "execution_count": null,
      "outputs": [
        {
          "output_type": "stream",
          "text": [
            "stat=0.924, p=0.081\n",
            "Probabilidad Gaussiana para el canal 1 de parkinson\n",
            "stat=0.926, p=0.091\n",
            "Probabilidad Gaussiana para el canal 2 de parkinson\n",
            "stat=0.940, p=0.178\n",
            "Probabilidad Gaussiana para el canal 3 de parkinson\n",
            "stat=0.951, p=0.307\n",
            "Probabilidad Gaussiana para el canal 4 de parkinson\n",
            "stat=0.926, p=0.088\n",
            "Probabilidad Gaussiana para el canal 5 de parkinson\n",
            "stat=0.948, p=0.265\n",
            "Probabilidad Gaussiana para el canal 6 de parkinson\n",
            "stat=0.939, p=0.173\n",
            "Probabilidad Gaussiana para el canal 7 de parkinson\n",
            "stat=0.915, p=0.052\n",
            "Probabilidad Gaussiana para el canal 8 de parkinson\n"
          ],
          "name": "stdout"
        }
      ]
    },
    {
      "cell_type": "code",
      "metadata": {
        "id": "I6A1-frztj7h",
        "colab": {
          "base_uri": "https://localhost:8080/"
        },
        "outputId": "1aa5d8b3-581a-432c-963f-cf05ac2adcba"
      },
      "source": [
        "#Prueba no parametrica (the Mann-Whitney U Test)\n",
        "for i in range(sensores):\n",
        "  from scipy.stats import mannwhitneyu\n",
        "  data1 = np.squeeze(entropia_g1[:,i])\n",
        "  data2 = np.squeeze(entropia_g2[:,i])\n",
        "  stat, p = mannwhitneyu(data1, data2)\n",
        "  print('stat=%.3f, p=%.3f' % (stat, p))\n",
        "  if p > 0.05:\n",
        "\t  print('Probablemente igual distribucion para los canales '+ str(i+1))\n",
        "  else:\n",
        "\t  print('Probablemente diferente distribucion para los canales '+ str(i+1))\n",
        "  i=i+1"
      ],
      "execution_count": null,
      "outputs": [
        {
          "output_type": "stream",
          "text": [
            "stat=334.000, p=0.108\n",
            "Probablemente igual distribucion para los canales 1\n",
            "stat=312.000, p=0.057\n",
            "Probablemente igual distribucion para los canales 2\n",
            "stat=327.000, p=0.089\n",
            "Probablemente igual distribucion para los canales 3\n",
            "stat=331.000, p=0.100\n",
            "Probablemente igual distribucion para los canales 4\n",
            "stat=325.000, p=0.084\n",
            "Probablemente igual distribucion para los canales 5\n",
            "stat=374.000, p=0.270\n",
            "Probablemente igual distribucion para los canales 6\n",
            "stat=400.000, p=0.417\n",
            "Probablemente igual distribucion para los canales 7\n",
            "stat=405.000, p=0.447\n",
            "Probablemente igual distribucion para los canales 8\n"
          ],
          "name": "stdout"
        }
      ]
    }
  ]
}